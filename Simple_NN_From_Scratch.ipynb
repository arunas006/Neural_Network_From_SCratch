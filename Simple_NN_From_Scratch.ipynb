{
 "cells": [
  {
   "cell_type": "code",
   "execution_count": 446,
   "id": "2ec0fbfb-edc6-4e4e-adc7-4b9d28f09ba0",
   "metadata": {},
   "outputs": [],
   "source": [
    "import numpy as np\n",
    "import pandas as pd"
   ]
  },
  {
   "cell_type": "code",
   "execution_count": 7,
   "id": "9b79d715-e79e-426b-92b2-6ced867a6ede",
   "metadata": {},
   "outputs": [
    {
     "name": "stderr",
     "output_type": "stream",
     "text": [
      "Downloading...\n",
      "From: https://drive.google.com/uc?id=1dLOPwh01o3k8p_hK633ixhD1ehz6nNWk\n",
      "To: C:\\Users\\Arun\\Documents\\Scaler\\Neural Network\\MY learning\\spiral.csv\n",
      "\n",
      "  0%|          | 0.00/12.9k [00:00<?, ?B/s]\n",
      "100%|##########| 12.9k/12.9k [00:00<00:00, 13.7MB/s]\n"
     ]
    }
   ],
   "source": [
    "!gdown 1dLOPwh01o3k8p_hK633ixhD1ehz6nNWk"
   ]
  },
  {
   "cell_type": "code",
   "execution_count": 448,
   "id": "0aa8c347-59c2-4362-a3c3-28c589697119",
   "metadata": {},
   "outputs": [],
   "source": [
    "df=pd.read_csv(\"spiral.csv\")"
   ]
  },
  {
   "cell_type": "code",
   "execution_count": 450,
   "id": "57dc4e39-d463-4aad-a593-1b7b71126e2b",
   "metadata": {},
   "outputs": [
    {
     "data": {
      "text/html": [
       "<div>\n",
       "<style scoped>\n",
       "    .dataframe tbody tr th:only-of-type {\n",
       "        vertical-align: middle;\n",
       "    }\n",
       "\n",
       "    .dataframe tbody tr th {\n",
       "        vertical-align: top;\n",
       "    }\n",
       "\n",
       "    .dataframe thead th {\n",
       "        text-align: right;\n",
       "    }\n",
       "</style>\n",
       "<table border=\"1\" class=\"dataframe\">\n",
       "  <thead>\n",
       "    <tr style=\"text-align: right;\">\n",
       "      <th></th>\n",
       "      <th>x1</th>\n",
       "      <th>x2</th>\n",
       "      <th>y</th>\n",
       "    </tr>\n",
       "  </thead>\n",
       "  <tbody>\n",
       "    <tr>\n",
       "      <th>0</th>\n",
       "      <td>0.000000</td>\n",
       "      <td>0.000000</td>\n",
       "      <td>0</td>\n",
       "    </tr>\n",
       "    <tr>\n",
       "      <th>1</th>\n",
       "      <td>-0.000650</td>\n",
       "      <td>0.010080</td>\n",
       "      <td>0</td>\n",
       "    </tr>\n",
       "    <tr>\n",
       "      <th>2</th>\n",
       "      <td>0.009809</td>\n",
       "      <td>0.017661</td>\n",
       "      <td>0</td>\n",
       "    </tr>\n",
       "    <tr>\n",
       "      <th>3</th>\n",
       "      <td>0.007487</td>\n",
       "      <td>0.029364</td>\n",
       "      <td>0</td>\n",
       "    </tr>\n",
       "    <tr>\n",
       "      <th>4</th>\n",
       "      <td>-0.000027</td>\n",
       "      <td>0.040404</td>\n",
       "      <td>0</td>\n",
       "    </tr>\n",
       "  </tbody>\n",
       "</table>\n",
       "</div>"
      ],
      "text/plain": [
       "         x1        x2  y\n",
       "0  0.000000  0.000000  0\n",
       "1 -0.000650  0.010080  0\n",
       "2  0.009809  0.017661  0\n",
       "3  0.007487  0.029364  0\n",
       "4 -0.000027  0.040404  0"
      ]
     },
     "execution_count": 450,
     "metadata": {},
     "output_type": "execute_result"
    }
   ],
   "source": [
    "df.head()"
   ]
  },
  {
   "cell_type": "code",
   "execution_count": 452,
   "id": "73fdee8b-e9bc-420b-bd5e-aa42585af163",
   "metadata": {},
   "outputs": [
    {
     "data": {
      "text/plain": [
       "array([0, 1, 2], dtype=int64)"
      ]
     },
     "execution_count": 452,
     "metadata": {},
     "output_type": "execute_result"
    }
   ],
   "source": [
    "df['y'].unique()"
   ]
  },
  {
   "cell_type": "markdown",
   "id": "340f6063-53c7-4cf8-8f08-576e2e5f786c",
   "metadata": {},
   "source": [
    "# It's clear we have a multi class problem statment to classify "
   ]
  },
  {
   "cell_type": "markdown",
   "id": "ad4918fa-ea0f-44b5-a76a-30d7f37f6c00",
   "metadata": {},
   "source": [
    "## In case of neural networks we need to pass the input features and output in array format"
   ]
  },
  {
   "cell_type": "code",
   "execution_count": 10,
   "id": "78aa3d1e-bce9-4c9c-91f5-fd3634d5d4ab",
   "metadata": {},
   "outputs": [],
   "source": [
    "X=df.iloc[:,:-1].to_numpy()"
   ]
  },
  {
   "cell_type": "code",
   "execution_count": 12,
   "id": "5c7a9e96-4090-4089-b842-e348d67062a0",
   "metadata": {},
   "outputs": [],
   "source": [
    "y=df['y'].to_numpy()"
   ]
  },
  {
   "cell_type": "markdown",
   "id": "bb9770a9-d1aa-4bce-bc43-51808f7a3ffb",
   "metadata": {},
   "source": [
    "# Defining Simiple Neural Network"
   ]
  },
  {
   "cell_type": "markdown",
   "id": "7fdcc415-2346-47dc-bb39-002b559a0f03",
   "metadata": {},
   "source": [
    "# Neural network setup is input features are fed to a layer of 3 neuron and softmax activation function is applied to get the output"
   ]
  },
  {
   "cell_type": "code",
   "execution_count": 14,
   "id": "e9efaaed-09d7-4f27-b595-806881f31699",
   "metadata": {},
   "outputs": [],
   "source": [
    "# layer Definition\n",
    "m=len(X) # Based on number input records feed to neural network\n",
    "d=X.shape[1] # Based on number of features\n",
    "n=len(np.unique(y)) # Based on number of class"
   ]
  },
  {
   "cell_type": "code",
   "execution_count": 16,
   "id": "790c106e-fe29-4afb-a2fb-de4fbc470564",
   "metadata": {},
   "outputs": [
    {
     "name": "stdout",
     "output_type": "stream",
     "text": [
      "300 2 3\n"
     ]
    }
   ],
   "source": [
    "print(m,d,n)"
   ]
  },
  {
   "cell_type": "markdown",
   "id": "22e5c6eb-4247-439b-9374-be87948a886f",
   "metadata": {},
   "source": [
    "# We need to initialize the weight and bias as a first step"
   ]
  },
  {
   "cell_type": "code",
   "execution_count": 19,
   "id": "945f18ed-7bdf-429f-bbcf-1a79586c788e",
   "metadata": {},
   "outputs": [],
   "source": [
    "w=0.01*np.random.randn(d,n)"
   ]
  },
  {
   "cell_type": "code",
   "execution_count": 21,
   "id": "edd62826-0df2-47d1-bd1b-a68422fda133",
   "metadata": {},
   "outputs": [
    {
     "data": {
      "text/plain": [
       "array([[ 0.01418326,  0.00595354, -0.00119075],\n",
       "       [ 0.02128621,  0.01518971,  0.00694054]])"
      ]
     },
     "execution_count": 21,
     "metadata": {},
     "output_type": "execute_result"
    }
   ],
   "source": [
    "w"
   ]
  },
  {
   "cell_type": "code",
   "execution_count": 23,
   "id": "e81223cf-c294-4c11-8899-9a1c6057bc49",
   "metadata": {},
   "outputs": [],
   "source": [
    "b=np.zeros((1,n))"
   ]
  },
  {
   "cell_type": "code",
   "execution_count": 25,
   "id": "56103ac3-f401-45b9-adc5-66a1f21b96e8",
   "metadata": {},
   "outputs": [
    {
     "data": {
      "text/plain": [
       "array([[0., 0., 0.]])"
      ]
     },
     "execution_count": 25,
     "metadata": {},
     "output_type": "execute_result"
    }
   ],
   "source": [
    "b"
   ]
  },
  {
   "cell_type": "markdown",
   "id": "24169727-c03f-4e01-aefd-8f9292b9c0c5",
   "metadata": {},
   "source": [
    "# Step 1"
   ]
  },
  {
   "cell_type": "code",
   "execution_count": 28,
   "id": "306f81f3-0559-4460-9bd6-76cae1bc6270",
   "metadata": {},
   "outputs": [],
   "source": [
    "z=np.dot(X,w)+b"
   ]
  },
  {
   "cell_type": "code",
   "execution_count": 30,
   "id": "97c8c37d-9900-4eed-9c2c-b0028c8d5247",
   "metadata": {},
   "outputs": [
    {
     "data": {
      "text/plain": [
       "(300, 3)"
      ]
     },
     "execution_count": 30,
     "metadata": {},
     "output_type": "execute_result"
    }
   ],
   "source": [
    "z.shape"
   ]
  },
  {
   "cell_type": "markdown",
   "id": "b1dda138-e76e-4587-bf42-83b33c02b4e6",
   "metadata": {},
   "source": [
    "# Step 2\n",
    "## Applying activation function to the Z and get the output"
   ]
  },
  {
   "cell_type": "code",
   "execution_count": 33,
   "id": "9d831bde-ed3a-4b6d-8530-a6a3f1cf66e4",
   "metadata": {},
   "outputs": [],
   "source": [
    "a=np.exp(z)"
   ]
  },
  {
   "cell_type": "code",
   "execution_count": 35,
   "id": "c4efbebc-63cc-4fe2-9994-70a5b3693442",
   "metadata": {},
   "outputs": [],
   "source": [
    "probs=a/np.sum(a,axis=1,keepdims=True)"
   ]
  },
  {
   "cell_type": "code",
   "execution_count": 37,
   "id": "3408da88-2c2c-4602-a60d-b7f3c7fa501b",
   "metadata": {},
   "outputs": [
    {
     "data": {
      "text/plain": [
       "(300, 3)"
      ]
     },
     "execution_count": 37,
     "metadata": {},
     "output_type": "execute_result"
    }
   ],
   "source": [
    "probs.shape"
   ]
  },
  {
   "cell_type": "markdown",
   "id": "de90571b-6848-4c95-b35d-dfa78b2bb4ae",
   "metadata": {},
   "source": [
    "# Step 3\n",
    "## Defining the loss function"
   ]
  },
  {
   "cell_type": "code",
   "execution_count": 40,
   "id": "d3a5d291-bc70-4133-ad7e-53474c65e0b0",
   "metadata": {},
   "outputs": [],
   "source": [
    "def loss(y,probability):\n",
    "    row=y.shape[0]\n",
    "    error=-np.log(probability[range(row),y])\n",
    "    return np.sum(error)/row"
   ]
  },
  {
   "cell_type": "code",
   "execution_count": 42,
   "id": "78c42043-f100-4c3d-8645-4385382e9d20",
   "metadata": {},
   "outputs": [
    {
     "data": {
      "text/plain": [
       "1.0980354509524937"
      ]
     },
     "execution_count": 42,
     "metadata": {},
     "output_type": "execute_result"
    }
   ],
   "source": [
    "loss(y,probs)"
   ]
  },
  {
   "cell_type": "markdown",
   "id": "60a09576-0da7-4e9d-bfbf-b89533a444d5",
   "metadata": {},
   "source": [
    "# Step 4\n",
    "## Backpropagation"
   ]
  },
  {
   "cell_type": "code",
   "execution_count": 45,
   "id": "fd2e1156-f03c-4ba5-bf81-234cd88b42cc",
   "metadata": {},
   "outputs": [],
   "source": [
    "def backprop(probability,y,X):\n",
    "    row=y.shape[0]\n",
    "    dz=probability\n",
    "    dz[range(row),y]-=1\n",
    "    dz=dz/row\n",
    "    dw=np.dot(X.T,dz)\n",
    "    db=np.sum(dz,keepdims=True,axis=0)\n",
    "    return dw,db\n",
    "    "
   ]
  },
  {
   "cell_type": "markdown",
   "id": "fe1221c7-4a7e-46dd-9a49-58bd51895987",
   "metadata": {},
   "source": [
    "# Training the model"
   ]
  },
  {
   "cell_type": "code",
   "execution_count": 48,
   "id": "d8815fa6-28ef-4f88-bd4f-8beacbe72d4c",
   "metadata": {},
   "outputs": [
    {
     "name": "stdout",
     "output_type": "stream",
     "text": [
      "Number of iteration is 50 and loss is 0.7634826986565009\n",
      "Number of iteration is 100 and loss is 0.7448439821858284\n",
      "Number of iteration is 150 and loss is 0.741407655819512\n",
      "Number of iteration is 200 and loss is 0.7405399098239498\n",
      "Number of iteration is 250 and loss is 0.7402919589868511\n",
      "Number of iteration is 300 and loss is 0.7402168910777657\n",
      "Number of iteration is 350 and loss is 0.7401934802366087\n",
      "Number of iteration is 400 and loss is 0.7401860617410307\n",
      "Number of iteration is 450 and loss is 0.7401836900800968\n",
      "Number of iteration is 500 and loss is 0.7401829281012046\n"
     ]
    }
   ],
   "source": [
    "lr=1\n",
    "max_iter=500\n",
    "loss_history=[]\n",
    "w=0.01*np.random.randn(d,n)\n",
    "b=np.zeros((1,n))\n",
    "\n",
    "for i in range(1,max_iter+1):\n",
    "    z=np.dot(X,w)+b\n",
    "    a=np.exp(z)\n",
    "    probs=a/np.sum(a,axis=1,keepdims=True)\n",
    "    loss_info=loss(y,probs)\n",
    "    loss_history.append(loss_info)\n",
    "    if i%50==0:\n",
    "        print(f'Number of iteration is {i} and loss is {loss_info}')\n",
    "    dw,db=backprop(probs,y,X)\n",
    "    w+=-lr*dw\n",
    "    b+=-lr*db\n"
   ]
  },
  {
   "cell_type": "code",
   "execution_count": 50,
   "id": "f6bd0f8b-3718-4c56-b005-2223690f6a7b",
   "metadata": {},
   "outputs": [],
   "source": [
    "history = pd.DataFrame({'step': list(range(max_iter)), 'loss': loss_history})"
   ]
  },
  {
   "cell_type": "code",
   "execution_count": 52,
   "id": "d5bd9ae3-9e26-41b1-8a05-4c078cdb6f79",
   "metadata": {},
   "outputs": [
    {
     "data": {
      "text/plain": [
       "<Axes: xlabel='step', ylabel='loss'>"
      ]
     },
     "execution_count": 52,
     "metadata": {},
     "output_type": "execute_result"
    },
    {
     "data": {
      "image/png": "[encoded data removed]",
      "text/plain": [
       "<Figure size 640x480 with 1 Axes>"
      ]
     },
     "metadata": {},
     "output_type": "display_data"
    }
   ],
   "source": [
    "history.plot(x='step',y='loss',xlabel='step',ylabel='loss')"
   ]
  },
  {
   "cell_type": "markdown",
   "id": "00e91ff0-3e7e-4d92-96ac-7bce026a14f4",
   "metadata": {},
   "source": [
    "# Writing oops code for the softmax single layer classifier"
   ]
  },
  {
   "cell_type": "code",
   "execution_count": 219,
   "id": "9fb90150-b1c7-49f2-bd47-3be986d9f1d6",
   "metadata": {},
   "outputs": [],
   "source": [
    "class SoftmaxClassifier:\n",
    "\n",
    "    def __init__(self,X,y):\n",
    "        self.m=X.shape[0]\n",
    "        self.n=len(np.unique(y))\n",
    "        self.d=X.shape[1]\n",
    "        self.loss_history=[]\n",
    "        self.w=0.01*np.random.randn(self.d,self.n)\n",
    "        self.b=np.zeros((1,self.n))\n",
    "\n",
    "    def forward_pass(self,X):\n",
    "        z=np.dot(X,self.w)+self.b\n",
    "        a=np.exp(z)\n",
    "        probs=a/np.sum(a,axis=1,keepdims=True)\n",
    "        return probs\n",
    "\n",
    "    def loss(self,probs):\n",
    "        error=-np.log(probs[range(self.m),y])\n",
    "        return np.sum(error)/self.m\n",
    "\n",
    "    def back_prob(self,X,y,probs):\n",
    "        dz=probs\n",
    "        dz[range(self.m),y]-=1\n",
    "        dz=dz/self.m\n",
    "        dw=np.dot(X.T,dz)\n",
    "        db=np.sum(dz,axis=0,keepdims=True)\n",
    "        return dw,db\n",
    "\n",
    "    def fit(self,X,y,lr=1,max_iter=500):\n",
    "        for i in range(1,max_iter+1):\n",
    "            probs=self.forward_pass(X)\n",
    "            loss=self.loss(probs)\n",
    "            self.loss_history.append(loss)\n",
    "            if i%50==0:\n",
    "                print(f'Number of iteration is {i} and loss is {loss}')\n",
    "            dw,db=self.back_prob(X,y,probs)\n",
    "            self.w+=-lr*dw\n",
    "            self.b+=-lr*db\n",
    "        self.loss_df=pd.DataFrame({'step':list(range(max_iter)),'loss':self.loss_history})\n",
    "        #return self.w,self.b\n",
    "    def parameters(self):\n",
    "        return self.w,self.b\n",
    "    \n",
    "    def loss_plot(self):\n",
    "        return self.loss_df.plot(x='step',y='loss',xlabel='step',ylabel='loss')\n",
    "\n",
    "    def predict(self,X_input):\n",
    "        probs=self.forward_pass(X_input)\n",
    "        return np.argmax(probs,axis=1)"
   ]
  },
  {
   "cell_type": "code",
   "execution_count": 225,
   "id": "1f8916cb-7189-4ff2-b8c9-b849999fb017",
   "metadata": {},
   "outputs": [],
   "source": [
    "model=SoftmaxClassifier(X,y)"
   ]
  },
  {
   "cell_type": "code",
   "execution_count": 227,
   "id": "9cbb08cd-c0e3-458a-8525-0003abd54ddb",
   "metadata": {},
   "outputs": [
    {
     "name": "stdout",
     "output_type": "stream",
     "text": [
      "Number of iteration is 50 and loss is 0.7635221887942705\n",
      "Number of iteration is 100 and loss is 0.7448504196458067\n",
      "Number of iteration is 150 and loss is 0.7414092179288051\n",
      "Number of iteration is 200 and loss is 0.7405403501449598\n",
      "Number of iteration is 250 and loss is 0.7402920916844622\n",
      "Number of iteration is 300 and loss is 0.740216932407626\n",
      "Number of iteration is 350 and loss is 0.7401934933315886\n",
      "Number of iteration is 400 and loss is 0.7401860659283205\n",
      "Number of iteration is 450 and loss is 0.7401836914257587\n",
      "Number of iteration is 500 and loss is 0.7401829285348532\n"
     ]
    }
   ],
   "source": [
    "model.fit(X,y)"
   ]
  },
  {
   "cell_type": "code",
   "execution_count": 229,
   "id": "4b712ea5-5c3f-4559-89ff-d342054237d7",
   "metadata": {},
   "outputs": [
    {
     "data": {
      "text/plain": [
       "<Axes: xlabel='step', ylabel='loss'>"
      ]
     },
     "execution_count": 229,
     "metadata": {},
     "output_type": "execute_result"
    },
    {
     "data": {
      "image/png": "[encoded data removed]",
      "text/plain": [
       "<Figure size 640x480 with 1 Axes>"
      ]
     },
     "metadata": {},
     "output_type": "display_data"
    }
   ],
   "source": [
    "model.loss_plot()"
   ]
  },
  {
   "cell_type": "markdown",
   "id": "5bc61768-0e60-4f6c-a09c-b4647da59e1c",
   "metadata": {},
   "source": [
    "# Training Accuracy"
   ]
  },
  {
   "cell_type": "code",
   "execution_count": 232,
   "id": "41a5a0ba-c617-482c-8ae3-b16903e3155b",
   "metadata": {},
   "outputs": [
    {
     "name": "stdout",
     "output_type": "stream",
     "text": [
      "Training Accuracy is : 52.67\n"
     ]
    }
   ],
   "source": [
    "print(\"Training Accuracy is :\",np.round((np.sum(model.predict(X) == y)/X.shape[0])*100,2))"
   ]
  },
  {
   "cell_type": "code",
   "execution_count": 235,
   "id": "525bddda-78a0-4227-89ac-7fd153e2c6e7",
   "metadata": {},
   "outputs": [
    {
     "data": {
      "text/plain": [
       "(array([[ 1.38975418,  0.99986894, -2.40721667],\n",
       "        [-2.90970315,  3.32609437, -0.40217452]]),\n",
       " array([[-0.05205403, -0.02392471,  0.07597874]]))"
      ]
     },
     "execution_count": 235,
     "metadata": {},
     "output_type": "execute_result"
    }
   ],
   "source": [
    "model.parameters()"
   ]
  },
  {
   "cell_type": "markdown",
   "id": "06acee43-1273-4cec-8679-6d2b0bc3e408",
   "metadata": {},
   "source": [
    "# Neural network with single hidden layer"
   ]
  },
  {
   "cell_type": "markdown",
   "id": "cab3aebf-29f2-4103-8941-fd471f1dd0eb",
   "metadata": {},
   "source": [
    "## Defining the network definition"
   ]
  },
  {
   "cell_type": "code",
   "execution_count": 454,
   "id": "f1c3d4f0-3c5d-4e1e-8aef-dfdc399c1162",
   "metadata": {},
   "outputs": [],
   "source": [
    "X=df.iloc[:,:-1].to_numpy()"
   ]
  },
  {
   "cell_type": "code",
   "execution_count": 456,
   "id": "4c308bd7-560b-46eb-a1a3-b8f3d56737ed",
   "metadata": {},
   "outputs": [],
   "source": [
    "y=df['y'].to_numpy()"
   ]
  },
  {
   "cell_type": "code",
   "execution_count": 74,
   "id": "32c81492-6995-4e94-b910-2244e5f52b92",
   "metadata": {},
   "outputs": [],
   "source": [
    "h=100 # no. of neurons in hidden layer"
   ]
  },
  {
   "cell_type": "code",
   "execution_count": 78,
   "id": "2785352e-973e-4874-87a0-fd59db16bb72",
   "metadata": {},
   "outputs": [],
   "source": [
    "n=len(np.unique(y)) # no. of neurons in output layer"
   ]
  },
  {
   "cell_type": "code",
   "execution_count": 80,
   "id": "45a970c4-cd6c-48d0-9f3f-5851f09b3a5f",
   "metadata": {},
   "outputs": [],
   "source": [
    "m=X.shape[0]"
   ]
  },
  {
   "cell_type": "code",
   "execution_count": 82,
   "id": "f303ed5e-da3c-4cfb-88e7-de5759aefc3b",
   "metadata": {},
   "outputs": [
    {
     "name": "stdout",
     "output_type": "stream",
     "text": [
      "300 100 3\n"
     ]
    }
   ],
   "source": [
    "print(m,h,n)"
   ]
  },
  {
   "cell_type": "code",
   "execution_count": 84,
   "id": "986d0830-f36b-4367-9b86-b19968a41fed",
   "metadata": {},
   "outputs": [],
   "source": [
    "w1=0.01*np.random.randn(d,h)"
   ]
  },
  {
   "cell_type": "code",
   "execution_count": 88,
   "id": "382ec12e-e1c8-4c66-80b8-e9fbfe2e3df6",
   "metadata": {},
   "outputs": [],
   "source": [
    "b1=np.zeros((1,h))"
   ]
  },
  {
   "cell_type": "code",
   "execution_count": 92,
   "id": "44aee8cf-94c0-4c77-b310-6b571412ff21",
   "metadata": {},
   "outputs": [],
   "source": [
    "w2=0.01*np.random.randn(h,n)"
   ]
  },
  {
   "cell_type": "code",
   "execution_count": 96,
   "id": "a529e5e9-deb1-4549-a4d9-e0f57c091f80",
   "metadata": {},
   "outputs": [],
   "source": [
    "b2=np.zeros((1,n))"
   ]
  },
  {
   "cell_type": "markdown",
   "id": "583b3882-ffd9-431e-beb0-d02b8df38611",
   "metadata": {},
   "source": [
    "# Forward propagation"
   ]
  },
  {
   "cell_type": "code",
   "execution_count": 129,
   "id": "e23c6454-b983-4ac4-9966-152a716f85c8",
   "metadata": {},
   "outputs": [],
   "source": [
    "z1=np.dot(X,w1)+b1"
   ]
  },
  {
   "cell_type": "code",
   "execution_count": 131,
   "id": "e7936d8e-dc14-4e6a-b99a-9d58de7bdc1e",
   "metadata": {},
   "outputs": [],
   "source": [
    "a1=np.maximum(0,z1)"
   ]
  },
  {
   "cell_type": "code",
   "execution_count": 135,
   "id": "b7073cf7-c2c4-4d68-8f1c-1d457d5f63a7",
   "metadata": {},
   "outputs": [],
   "source": [
    "z2=np.dot(a1,w2)+b2"
   ]
  },
  {
   "cell_type": "code",
   "execution_count": 147,
   "id": "def58e8e-c686-4ae7-a729-fad541fdcce5",
   "metadata": {},
   "outputs": [],
   "source": [
    "z2_exp=np.exp(z2)"
   ]
  },
  {
   "cell_type": "code",
   "execution_count": 149,
   "id": "97959a19-7f39-4c12-ba0d-387dd0840e82",
   "metadata": {},
   "outputs": [],
   "source": [
    "a2=z2_exp/np.sum(z2_exp,axis=1,keepdims=True)"
   ]
  },
  {
   "cell_type": "markdown",
   "id": "8cb79f8b-33e9-4236-b91c-5945763dbd33",
   "metadata": {},
   "source": [
    "# defining loss"
   ]
  },
  {
   "cell_type": "code",
   "execution_count": 156,
   "id": "70f57479-499e-421e-9bab-47380a0d25a5",
   "metadata": {},
   "outputs": [],
   "source": [
    "probs=a2"
   ]
  },
  {
   "cell_type": "code",
   "execution_count": 162,
   "id": "2ebcda40-e399-4a80-91cb-df1eb1687e27",
   "metadata": {},
   "outputs": [],
   "source": [
    "loss=-np.log(probs[range(m),y])"
   ]
  },
  {
   "cell_type": "code",
   "execution_count": 166,
   "id": "961e72ff-7f0e-43bf-a1f1-a859ea4279e7",
   "metadata": {},
   "outputs": [],
   "source": [
    "final_loss=np.sum(loss)/y.shape[0]"
   ]
  },
  {
   "cell_type": "code",
   "execution_count": 168,
   "id": "1794b711-c7be-44f3-a220-bb9b4661e261",
   "metadata": {},
   "outputs": [
    {
     "data": {
      "text/plain": [
       "1.0986982894092465"
      ]
     },
     "execution_count": 168,
     "metadata": {},
     "output_type": "execute_result"
    }
   ],
   "source": [
    "final_loss"
   ]
  },
  {
   "cell_type": "markdown",
   "id": "36722d77-c748-40e4-905d-d65dceb6cfd4",
   "metadata": {},
   "source": [
    "# Backword propagation"
   ]
  },
  {
   "cell_type": "code",
   "execution_count": 187,
   "id": "092e7b10-dbbe-406a-a002-b6d9a1138d78",
   "metadata": {},
   "outputs": [],
   "source": [
    "dz2=probs"
   ]
  },
  {
   "cell_type": "code",
   "execution_count": 189,
   "id": "e7ec3d18-a376-42a5-b5ef-6c4e4c765782",
   "metadata": {},
   "outputs": [],
   "source": [
    "dz2[range(m),y]-=1"
   ]
  },
  {
   "cell_type": "code",
   "execution_count": 197,
   "id": "084cab80-eed0-419e-9d04-0b000052c2dd",
   "metadata": {},
   "outputs": [],
   "source": [
    "dz2=dz2/m"
   ]
  },
  {
   "cell_type": "code",
   "execution_count": 203,
   "id": "0ef4e70b-08f4-4a59-99ba-046c3318c63c",
   "metadata": {},
   "outputs": [],
   "source": [
    "dw2=np.dot(a1.T,dz2)"
   ]
  },
  {
   "cell_type": "code",
   "execution_count": 207,
   "id": "37658770-bdc3-460b-acc2-d88727d94e4e",
   "metadata": {},
   "outputs": [],
   "source": [
    "db2=np.sum(dz2,axis=0,keepdims=True)"
   ]
  },
  {
   "cell_type": "code",
   "execution_count": 211,
   "id": "6a401710-06ca-42af-96ff-43eb00b4e1be",
   "metadata": {},
   "outputs": [],
   "source": [
    "da1=np.dot(dz2,w2.T)"
   ]
  },
  {
   "cell_type": "code",
   "execution_count": 223,
   "id": "a4e77320-daf9-4837-98f0-f2964d1eb360",
   "metadata": {},
   "outputs": [],
   "source": [
    "da1[z1<=0]=0"
   ]
  },
  {
   "cell_type": "code",
   "execution_count": 225,
   "id": "f83de7a4-268a-4dd0-88f3-2b6369ce3de6",
   "metadata": {},
   "outputs": [],
   "source": [
    "dz1=da1"
   ]
  },
  {
   "cell_type": "code",
   "execution_count": 229,
   "id": "ac8a189b-a2d8-498c-8960-e153994a847d",
   "metadata": {},
   "outputs": [],
   "source": [
    "dw1=np.dot(X.T,dz1)"
   ]
  },
  {
   "cell_type": "code",
   "execution_count": 231,
   "id": "9ba094ac-f4ab-48da-ad82-4e527407acfc",
   "metadata": {},
   "outputs": [],
   "source": [
    "db1=np.sum(dz1,axis=0,keepdims=True)"
   ]
  },
  {
   "cell_type": "code",
   "execution_count": 241,
   "id": "0120ba1e-ab44-48fc-97db-262e4d5f8289",
   "metadata": {},
   "outputs": [
    {
     "name": "stdout",
     "output_type": "stream",
     "text": [
      "dz2 shape : (300, 3)\n",
      "dw2 shape : (100, 3)\n",
      "db2 shape : (1, 3)\n",
      "da1 shape : (300, 100)\n",
      "dz1 shape : (300, 100)\n",
      "dw1 shape : (2, 100)\n",
      "db1 shape : (1, 100)\n"
     ]
    }
   ],
   "source": [
    "print(\"dz2 shape :\",dz2.shape)\n",
    "print(\"dw2 shape :\",dw2.shape)\n",
    "print(\"db2 shape :\",db2.shape)\n",
    "print(\"da1 shape :\",da1.shape)\n",
    "print(\"dz1 shape :\",dz1.shape)\n",
    "print(\"dw1 shape :\",dw1.shape)\n",
    "print(\"db1 shape :\",db1.shape)"
   ]
  },
  {
   "cell_type": "code",
   "execution_count": 243,
   "id": "f65f2c05-ee9e-4888-ae0c-b14dc04be09a",
   "metadata": {},
   "outputs": [],
   "source": [
    "lr=0.001"
   ]
  },
  {
   "cell_type": "code",
   "execution_count": 251,
   "id": "4b630731-f621-423c-a13f-40eebdd31221",
   "metadata": {},
   "outputs": [],
   "source": [
    "w1+=-lr*dw1\n",
    "b1+=-lr*db1\n",
    "w2+=-lr*dw2\n",
    "b2+=-lr*db2"
   ]
  },
  {
   "cell_type": "markdown",
   "id": "a5f5622f-a0ee-4ce1-a689-afa7fc2bed19",
   "metadata": {},
   "source": [
    "# Neural Network CLass"
   ]
  },
  {
   "cell_type": "code",
   "execution_count": 468,
   "id": "11f59f96-ae87-4d1d-bce5-abe306901b9f",
   "metadata": {},
   "outputs": [],
   "source": [
    "class NN:\n",
    "\n",
    "    def __init__(self,X,y,n_hidden=100):\n",
    "        self.m=X.shape[0]\n",
    "        self.n=len(np.unique(y))\n",
    "        self.h=n_hidden\n",
    "        self.d=X.shape[1]\n",
    "        self.w1=0.01*np.random.randn(self.d,self.h)\n",
    "        self.b1=np.zeros((1,self.h))\n",
    "        self.w2=0.01*np.random.randn(self.h,self.n)\n",
    "        self.b2=np.zeros((1,self.n))\n",
    "        self.loss_history=[]\n",
    "\n",
    "    def forward_prop(self,X):\n",
    "        z1=np.dot(X,self.w1)+self.b1\n",
    "        a1=np.maximum(0,z1)\n",
    "        z2=np.dot(a1,self.w2)+self.b2\n",
    "        a2_exp=np.exp(z2)\n",
    "        a2=a2_exp/np.sum(a2_exp,axis=1,keepdims=True)\n",
    "        return a1,a2\n",
    "\n",
    "\n",
    "    def loss(self,probs,y):\n",
    "        loss_fn=-np.log(probs[range(self.m),y])\n",
    "        row=y.shape[0]\n",
    "        return np.sum(loss_fn)/row \n",
    "\n",
    "    def backward_prop(self,X,y,a1,a2):\n",
    "        dz2=a2\n",
    "        dz2[range(self.m),y] -= 1\n",
    "        dz22=dz2/self.m\n",
    "        dw2=np.dot(a1.T,dz2)\n",
    "        db2=np.sum(dz2,axis=0,keepdims=True)\n",
    "        da1=np.dot(dz2,self.w2.T)\n",
    "        da1[a1<=0]=0\n",
    "        dz1=da1\n",
    "        dw1=np.dot(X.T,dz1)\n",
    "        db1=np.sum(dz1,axis=0,keepdims=True)\n",
    "        return dw1,dw2,db1,db2       \n",
    "    \n",
    "\n",
    "    def fit(self,X,y,lr=0.001,max_iter=10000):\n",
    "        \n",
    "        for i in range(1,max_iter+1):\n",
    "            a1,a2=self.forward_prop(X)\n",
    "            data_loss=self.loss(a2,y)\n",
    "            self.loss_history.append(data_loss)\n",
    "            if (i%500)==0:\n",
    "                print(f\"Loss for the Iteration {i} is {data_loss}\")\n",
    "            dw1,dw2,db1,db2=self.backward_prop(X,y,a1,a2)\n",
    "\n",
    "            self.w1+=-lr*dw1\n",
    "            self.w2+=-lr*dw2\n",
    "            self.b1+=-lr*db1\n",
    "            self.b2+=-lr*db2\n",
    "\n",
    "        self.df_loss=pd.DataFrame({'step':list(range(max_iter)),'loss':self.loss_history})\n",
    "\n",
    "        return \"Model Fit Done\"\n",
    "\n",
    "    \n",
    "    def loss_plot(self):\n",
    "        return self.df_loss.plot(x='step',y='loss',xlabel='Iteration',ylabel='Loss')\n",
    "\n",
    "    def predict(self,X):\n",
    "        a1,a2=self.forward_prop(X)\n",
    "        return np.argmax(a2,axis=1)"
   ]
  },
  {
   "cell_type": "code",
   "execution_count": 470,
   "id": "7429c349-7fdb-4dbb-8e6a-d7462eb9611c",
   "metadata": {},
   "outputs": [],
   "source": [
    "model_N=NN(X,y)"
   ]
  },
  {
   "cell_type": "code",
   "execution_count": 472,
   "id": "7c1c93a1-bb98-4c58-b6d8-879a93a5ea69",
   "metadata": {},
   "outputs": [
    {
     "name": "stdout",
     "output_type": "stream",
     "text": [
      "Loss for the Iteration 500 is 0.6521497401289319\n",
      "Loss for the Iteration 1000 is 0.4009227659167565\n",
      "Loss for the Iteration 1500 is 0.272372844393682\n",
      "Loss for the Iteration 2000 is 0.21342432515356743\n",
      "Loss for the Iteration 2500 is 0.16419634560380214\n",
      "Loss for the Iteration 3000 is 0.12628477369813407\n",
      "Loss for the Iteration 3500 is 0.0978516172583861\n",
      "Loss for the Iteration 4000 is 0.0791596535061413\n",
      "Loss for the Iteration 4500 is 0.067420790203315\n",
      "Loss for the Iteration 5000 is 0.059469427691949\n",
      "Loss for the Iteration 5500 is 0.053705786446792476\n",
      "Loss for the Iteration 6000 is 0.04937527382736928\n",
      "Loss for the Iteration 6500 is 0.04595340969402286\n",
      "Loss for the Iteration 7000 is 0.04316568262998597\n",
      "Loss for the Iteration 7500 is 0.0408357096663599\n",
      "Loss for the Iteration 8000 is 0.038834196673501346\n",
      "Loss for the Iteration 8500 is 0.03711208954984702\n",
      "Loss for the Iteration 9000 is 0.03560124646151474\n",
      "Loss for the Iteration 9500 is 0.03430819686698444\n",
      "Loss for the Iteration 10000 is 0.03316463775169001\n"
     ]
    },
    {
     "data": {
      "text/plain": [
       "'Model Fit Done'"
      ]
     },
     "execution_count": 472,
     "metadata": {},
     "output_type": "execute_result"
    }
   ],
   "source": [
    "model_N.fit(X,y)"
   ]
  },
  {
   "cell_type": "code",
   "execution_count": 474,
   "id": "71252307-3f61-4536-82c8-8c0ce60d3f00",
   "metadata": {},
   "outputs": [
    {
     "data": {
      "text/plain": [
       "<Axes: xlabel='Iteration', ylabel='Loss'>"
      ]
     },
     "execution_count": 474,
     "metadata": {},
     "output_type": "execute_result"
    },
    {
     "data": {
      "image/png": "[encoded data removed]",
      "text/plain": [
       "<Figure size 640x480 with 1 Axes>"
      ]
     },
     "metadata": {},
     "output_type": "display_data"
    }
   ],
   "source": [
    "model_N.loss_plot()"
   ]
  },
  {
   "cell_type": "code",
   "execution_count": 476,
   "id": "a501ad5c-a1ad-41ec-9e45-e91f8b51ab6a",
   "metadata": {},
   "outputs": [
    {
     "name": "stdout",
     "output_type": "stream",
     "text": [
      "Training Accuracy is : 99.33\n"
     ]
    }
   ],
   "source": [
    "print(\"Training Accuracy is :\",np.round((np.sum(model_N.predict(X) == y)/X.shape[0])*100,2))"
   ]
  },
  {
   "cell_type": "code",
   "execution_count": null,
   "id": "10735bb3-8453-4e39-801c-f7a886a020f4",
   "metadata": {},
   "outputs": [],
   "source": []
  }
 ],
 "metadata": {
  "kernelspec": {
   "display_name": "Python 3 (ipykernel)",
   "language": "python",
   "name": "python3"
  },
  "language_info": {
   "codemirror_mode": {
    "name": "ipython",
    "version": 3
   },
   "file_extension": ".py",
   "mimetype": "text/x-python",
   "name": "python",
   "nbconvert_exporter": "python",
   "pygments_lexer": "ipython3",
   "version": "3.12.7"
  }
 },
 "nbformat": 4,
 "nbformat_minor": 5
}
